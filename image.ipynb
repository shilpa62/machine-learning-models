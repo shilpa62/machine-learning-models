{
  "nbformat": 4,
  "nbformat_minor": 0,
  "metadata": {
    "colab": {
      "name": "image",
      "provenance": [],
      "collapsed_sections": []
    },
    "kernelspec": {
      "name": "python3",
      "display_name": "Python 3"
    }
  },
  "cells": [
    {
      "cell_type": "markdown",
      "metadata": {
        "id": "VPUlVUD6Bmhb",
        "colab_type": "text"
      },
      "source": [
        "#IMAGE CLASSIFICATION"
      ]
    },
    {
      "cell_type": "code",
      "metadata": {
        "id": "Qx9gXlLzguzs",
        "colab_type": "code",
        "outputId": "15474b95-2918-418b-d865-fc99efe8bffe",
        "colab": {
          "base_uri": "https://localhost:8080/",
          "height": 558
        }
      },
      "source": [
        "!pip install tensorflow==2.0.0-beta1"
      ],
      "execution_count": 2,
      "outputs": [
        {
          "output_type": "stream",
          "text": [
            "Collecting tensorflow==2.0.0-beta1\n",
            "\u001b[?25l  Downloading https://files.pythonhosted.org/packages/29/6c/2c9a5c4d095c63c2fb37d20def0e4f92685f7aee9243d6aae25862694fd1/tensorflow-2.0.0b1-cp36-cp36m-manylinux1_x86_64.whl (87.9MB)\n",
            "\u001b[K     |████████████████████████████████| 87.9MB 26kB/s \n",
            "\u001b[?25hRequirement already satisfied: gast>=0.2.0 in /usr/local/lib/python3.6/dist-packages (from tensorflow==2.0.0-beta1) (0.2.2)\n",
            "Requirement already satisfied: numpy<2.0,>=1.14.5 in /usr/local/lib/python3.6/dist-packages (from tensorflow==2.0.0-beta1) (1.17.3)\n",
            "Requirement already satisfied: keras-preprocessing>=1.0.5 in /usr/local/lib/python3.6/dist-packages (from tensorflow==2.0.0-beta1) (1.1.0)\n",
            "Collecting tb-nightly<1.14.0a20190604,>=1.14.0a20190603\n",
            "\u001b[?25l  Downloading https://files.pythonhosted.org/packages/a4/96/571b875cd81dda9d5dfa1422a4f9d749e67c0a8d4f4f0b33a4e5f5f35e27/tb_nightly-1.14.0a20190603-py3-none-any.whl (3.1MB)\n",
            "\u001b[K     |████████████████████████████████| 3.1MB 34.6MB/s \n",
            "\u001b[?25hRequirement already satisfied: wheel>=0.26 in /usr/local/lib/python3.6/dist-packages (from tensorflow==2.0.0-beta1) (0.33.6)\n",
            "Requirement already satisfied: google-pasta>=0.1.6 in /usr/local/lib/python3.6/dist-packages (from tensorflow==2.0.0-beta1) (0.1.7)\n",
            "Requirement already satisfied: astor>=0.6.0 in /usr/local/lib/python3.6/dist-packages (from tensorflow==2.0.0-beta1) (0.8.0)\n",
            "Requirement already satisfied: keras-applications>=1.0.6 in /usr/local/lib/python3.6/dist-packages (from tensorflow==2.0.0-beta1) (1.0.8)\n",
            "Requirement already satisfied: wrapt>=1.11.1 in /usr/local/lib/python3.6/dist-packages (from tensorflow==2.0.0-beta1) (1.11.2)\n",
            "Requirement already satisfied: protobuf>=3.6.1 in /usr/local/lib/python3.6/dist-packages (from tensorflow==2.0.0-beta1) (3.10.0)\n",
            "Requirement already satisfied: termcolor>=1.1.0 in /usr/local/lib/python3.6/dist-packages (from tensorflow==2.0.0-beta1) (1.1.0)\n",
            "Requirement already satisfied: grpcio>=1.8.6 in /usr/local/lib/python3.6/dist-packages (from tensorflow==2.0.0-beta1) (1.15.0)\n",
            "Collecting tf-estimator-nightly<1.14.0.dev2019060502,>=1.14.0.dev2019060501\n",
            "\u001b[?25l  Downloading https://files.pythonhosted.org/packages/32/dd/99c47dd007dcf10d63fd895611b063732646f23059c618a373e85019eb0e/tf_estimator_nightly-1.14.0.dev2019060501-py2.py3-none-any.whl (496kB)\n",
            "\u001b[K     |████████████████████████████████| 501kB 49.8MB/s \n",
            "\u001b[?25hRequirement already satisfied: absl-py>=0.7.0 in /usr/local/lib/python3.6/dist-packages (from tensorflow==2.0.0-beta1) (0.8.1)\n",
            "Requirement already satisfied: six>=1.10.0 in /usr/local/lib/python3.6/dist-packages (from tensorflow==2.0.0-beta1) (1.12.0)\n",
            "Requirement already satisfied: setuptools>=41.0.0 in /usr/local/lib/python3.6/dist-packages (from tb-nightly<1.14.0a20190604,>=1.14.0a20190603->tensorflow==2.0.0-beta1) (41.4.0)\n",
            "Requirement already satisfied: markdown>=2.6.8 in /usr/local/lib/python3.6/dist-packages (from tb-nightly<1.14.0a20190604,>=1.14.0a20190603->tensorflow==2.0.0-beta1) (3.1.1)\n",
            "Requirement already satisfied: werkzeug>=0.11.15 in /usr/local/lib/python3.6/dist-packages (from tb-nightly<1.14.0a20190604,>=1.14.0a20190603->tensorflow==2.0.0-beta1) (0.16.0)\n",
            "Requirement already satisfied: h5py in /usr/local/lib/python3.6/dist-packages (from keras-applications>=1.0.6->tensorflow==2.0.0-beta1) (2.8.0)\n",
            "Installing collected packages: tb-nightly, tf-estimator-nightly, tensorflow\n",
            "  Found existing installation: tensorflow 1.15.0\n",
            "    Uninstalling tensorflow-1.15.0:\n",
            "      Successfully uninstalled tensorflow-1.15.0\n",
            "Successfully installed tb-nightly-1.14.0a20190603 tensorflow-2.0.0b1 tf-estimator-nightly-1.14.0.dev2019060501\n"
          ],
          "name": "stdout"
        }
      ]
    },
    {
      "cell_type": "code",
      "metadata": {
        "id": "g4dsAevehRsy",
        "colab_type": "code",
        "outputId": "05e9f5fb-1d43-458e-8d08-195b45d7c6f1",
        "colab": {
          "base_uri": "https://localhost:8080/",
          "height": 34
        }
      },
      "source": [
        "from __future__ import absolute_import,division,print_function,unicode_literals\n",
        "\n",
        "#tensorflow and tf.keras\n",
        "import tensorflow as tf\n",
        "from tensorflow import keras\n",
        "\n",
        "import numpy as np\n",
        "import matplotlib.pyplot as plt\n",
        "\n",
        "print(tf.__version__)\n",
        "\n"
      ],
      "execution_count": 65,
      "outputs": [
        {
          "output_type": "stream",
          "text": [
            "2.0.0-beta1\n"
          ],
          "name": "stdout"
        }
      ]
    },
    {
      "cell_type": "code",
      "metadata": {
        "id": "x43ywJpsiow_",
        "colab_type": "code",
        "colab": {}
      },
      "source": [
        "#import the fashion mnist dataset"
      ],
      "execution_count": 0,
      "outputs": []
    },
    {
      "cell_type": "code",
      "metadata": {
        "id": "ZDJXFq7li1HH",
        "colab_type": "code",
        "colab": {}
      },
      "source": [
        "#this guide uses mnist dataset which contain 70000 grayscale images in 10 categories. the images should individuals article of clothing"
      ],
      "execution_count": 0,
      "outputs": []
    },
    {
      "cell_type": "code",
      "metadata": {
        "id": "_IU6qTQZjRBX",
        "colab_type": "code",
        "outputId": "eb5ba71d-ad21-48e7-ee52-0339aa62caf6",
        "colab": {
          "base_uri": "https://localhost:8080/",
          "height": 151
        }
      },
      "source": [
        "fashion_mnist= keras.datasets.fashion_mnist\n",
        "(train_images,train_labels),(test_images,test_labels)=fashion_mnist.load_data()"
      ],
      "execution_count": 6,
      "outputs": [
        {
          "output_type": "stream",
          "text": [
            "Downloading data from https://storage.googleapis.com/tensorflow/tf-keras-datasets/train-labels-idx1-ubyte.gz\n",
            "32768/29515 [=================================] - 0s 0us/step\n",
            "Downloading data from https://storage.googleapis.com/tensorflow/tf-keras-datasets/train-images-idx3-ubyte.gz\n",
            "26427392/26421880 [==============================] - 0s 0us/step\n",
            "Downloading data from https://storage.googleapis.com/tensorflow/tf-keras-datasets/t10k-labels-idx1-ubyte.gz\n",
            "8192/5148 [===============================================] - 0s 0us/step\n",
            "Downloading data from https://storage.googleapis.com/tensorflow/tf-keras-datasets/t10k-images-idx3-ubyte.gz\n",
            "4423680/4422102 [==============================] - 0s 0us/step\n"
          ],
          "name": "stdout"
        }
      ]
    },
    {
      "cell_type": "code",
      "metadata": {
        "id": "IUUxNmeqjumX",
        "colab_type": "code",
        "colab": {}
      },
      "source": [
        "#the images are 28*28 numpy array with pixels value ranges from 0 to 255 . labels are array of integer 0 to 9.\n",
        "#"
      ],
      "execution_count": 0,
      "outputs": []
    },
    {
      "cell_type": "code",
      "metadata": {
        "id": "AHe696PbkT9_",
        "colab_type": "code",
        "colab": {}
      },
      "source": [
        "class_names=[\"T-shirt/top\",\"Trouser\",\"Pullover\",\"Dress\",\"Coat\",\"Sandal\",\"Shirt\",\"Sneaker\",\"Bag\",\"Ankle boot\"]"
      ],
      "execution_count": 0,
      "outputs": []
    },
    {
      "cell_type": "code",
      "metadata": {
        "id": "pSDh_OioktyX",
        "colab_type": "code",
        "colab": {}
      },
      "source": [
        "#explore the data"
      ],
      "execution_count": 0,
      "outputs": []
    },
    {
      "cell_type": "code",
      "metadata": {
        "id": "UybLYD2sk1W4",
        "colab_type": "code",
        "outputId": "034c5545-b0dc-4f1b-f8d8-e129dcb498d4",
        "colab": {
          "base_uri": "https://localhost:8080/",
          "height": 34
        }
      },
      "source": [
        "train_images.shape"
      ],
      "execution_count": 11,
      "outputs": [
        {
          "output_type": "execute_result",
          "data": {
            "text/plain": [
              "(60000, 28, 28)"
            ]
          },
          "metadata": {
            "tags": []
          },
          "execution_count": 11
        }
      ]
    },
    {
      "cell_type": "code",
      "metadata": {
        "id": "DOEZ2RmCk4ot",
        "colab_type": "code",
        "outputId": "0fe11c7d-39c9-4f00-962d-55340dca8cbc",
        "colab": {
          "base_uri": "https://localhost:8080/",
          "height": 34
        }
      },
      "source": [
        "len(train_labels)"
      ],
      "execution_count": 12,
      "outputs": [
        {
          "output_type": "execute_result",
          "data": {
            "text/plain": [
              "60000"
            ]
          },
          "metadata": {
            "tags": []
          },
          "execution_count": 12
        }
      ]
    },
    {
      "cell_type": "code",
      "metadata": {
        "id": "XqukcZdhk-jn",
        "colab_type": "code",
        "outputId": "4e9d1bff-ca2b-4df1-b75e-8df3c8133491",
        "colab": {
          "base_uri": "https://localhost:8080/",
          "height": 34
        }
      },
      "source": [
        "train_labels"
      ],
      "execution_count": 13,
      "outputs": [
        {
          "output_type": "execute_result",
          "data": {
            "text/plain": [
              "array([9, 0, 0, ..., 3, 0, 5], dtype=uint8)"
            ]
          },
          "metadata": {
            "tags": []
          },
          "execution_count": 13
        }
      ]
    },
    {
      "cell_type": "code",
      "metadata": {
        "id": "qIY0qc2elDfo",
        "colab_type": "code",
        "outputId": "5a652c04-3a28-4e16-b485-a0a63fb25d23",
        "colab": {
          "base_uri": "https://localhost:8080/",
          "height": 34
        }
      },
      "source": [
        "test_images.shape"
      ],
      "execution_count": 0,
      "outputs": [
        {
          "output_type": "execute_result",
          "data": {
            "text/plain": [
              "(10000, 28, 28)"
            ]
          },
          "metadata": {
            "tags": []
          },
          "execution_count": 14
        }
      ]
    },
    {
      "cell_type": "code",
      "metadata": {
        "id": "QYktvbh4lFxw",
        "colab_type": "code",
        "outputId": "f1d43cc7-0def-4f49-af3a-112426c8ff83",
        "colab": {
          "base_uri": "https://localhost:8080/",
          "height": 34
        }
      },
      "source": [
        "len(test_labels)"
      ],
      "execution_count": 14,
      "outputs": [
        {
          "output_type": "execute_result",
          "data": {
            "text/plain": [
              "10000"
            ]
          },
          "metadata": {
            "tags": []
          },
          "execution_count": 14
        }
      ]
    },
    {
      "cell_type": "code",
      "metadata": {
        "id": "--6Q3-nnlI4i",
        "colab_type": "code",
        "colab": {}
      },
      "source": [
        "#preprocess the data"
      ],
      "execution_count": 0,
      "outputs": []
    },
    {
      "cell_type": "code",
      "metadata": {
        "id": "DepQUyKHlPB2",
        "colab_type": "code",
        "outputId": "49b557b9-ac48-45d6-cc35-f7dbfcc682fd",
        "colab": {
          "base_uri": "https://localhost:8080/",
          "height": 269
        }
      },
      "source": [
        "plt.figure()\n",
        "plt.imshow(train_images[0])\n",
        "plt.colorbar()\n",
        "plt.grid(False)\n",
        "plt.show()\n"
      ],
      "execution_count": 69,
      "outputs": [
        {
          "output_type": "display_data",
          "data": {
            "image/png": "[encoded data removed]",
            "text/plain": [
              "<Figure size 432x288 with 2 Axes>"
            ]
          },
          "metadata": {
            "tags": []
          }
        }
      ]
    },
    {
      "cell_type": "code",
      "metadata": {
        "id": "FlTT2DfYljmz",
        "colab_type": "code",
        "colab": {}
      },
      "source": [
        "train_images=train_images/255.0\n",
        "test_images=test_images/255.0"
      ],
      "execution_count": 0,
      "outputs": []
    },
    {
      "cell_type": "code",
      "metadata": {
        "id": "LhjBMX4xl2CZ",
        "colab_type": "code",
        "colab": {}
      },
      "source": [
        "#to verify data is in correct format and that we aready to build and train the network. \n",
        "#lets display the first 25 images from the training set and display the class name below each image"
      ],
      "execution_count": 0,
      "outputs": []
    },
    {
      "cell_type": "code",
      "metadata": {
        "id": "yLUrACddmS_Q",
        "colab_type": "code",
        "outputId": "9c3b640d-7eca-4b72-9cd7-dc3a0adf0d8a",
        "colab": {
          "base_uri": "https://localhost:8080/",
          "height": 589
        }
      },
      "source": [
        "plt.figure(figsize=(10,10))\n",
        "for i in range(0,25):\n",
        "  plt.subplot(5,5,i+1)\n",
        "  plt.xticks([])\n",
        "  plt.yticks([])\n",
        "  plt.grid(False)\n",
        "  plt.imshow(train_images[i],cmap=plt.cm.binary)\n",
        "  plt.xlabel(class_names[train_labels[i]])\n",
        "plt.show()"
      ],
      "execution_count": 71,
      "outputs": [
        {
          "output_type": "display_data",
          "data": {
            "image/png": "[encoded data removed]",
            "text/plain": [
              "<Figure size 720x720 with 25 Axes>"
            ]
          },
          "metadata": {
            "tags": []
          }
        }
      ]
    },
    {
      "cell_type": "code",
      "metadata": {
        "id": "wzhYnRsqnP2_",
        "colab_type": "code",
        "colab": {}
      },
      "source": [
        "#build the model"
      ],
      "execution_count": 0,
      "outputs": []
    },
    {
      "cell_type": "markdown",
      "metadata": {
        "id": "kGuRMNjzxD-c",
        "colab_type": "text"
      },
      "source": [
        "building the neural network require configuring the layers of model,then compiling the model."
      ]
    },
    {
      "cell_type": "code",
      "metadata": {
        "id": "D-H4nFL1xVuN",
        "colab_type": "code",
        "colab": {}
      },
      "source": [
        "#set up the layers\n"
      ],
      "execution_count": 0,
      "outputs": []
    },
    {
      "cell_type": "markdown",
      "metadata": {
        "id": "7B3mSaL3xmiB",
        "colab_type": "text"
      },
      "source": [
        "basic building block of neural network is layer,layer extract representation the data fed into them."
      ]
    },
    {
      "cell_type": "code",
      "metadata": {
        "id": "hGOseJRDxk_N",
        "colab_type": "code",
        "colab": {}
      },
      "source": [
        "model= keras.Sequential([\n",
        "                         keras.layers.Flatten(input_shape=(28,28)),\n",
        "                         keras.layers.Dense(128,activation=\"relu\"),\n",
        "                         keras.layers.Dense(10,activation=\"softmax\")\n",
        "])"
      ],
      "execution_count": 0,
      "outputs": []
    },
    {
      "cell_type": "markdown",
      "metadata": {
        "id": "dA1AoFezyvZU",
        "colab_type": "text"
      },
      "source": [
        "first layer in this network tf.keras.layers.Flatten transforms the format of the imagesfrom a 2-d array(of 28 x 28 pixels)to one -d array (of 28*28=784 pixels).Think of this layer as unstacking rows of pixels in the image and lining them up.This layer has no parameter tom learn ,it only reformats the data .\n",
        "After the pixels are flattened ,the network consist of a sequence of two tf.keras.Dense.layers.these are densely connected or fully connected neural layers,the first dense layer has 128 nodes.The second layr is a 10 node softmax layer that return  an array of probability scoresthat sum to 1.Each node contains a score that indicates the probability that the current images belong to one of 10 classes."
      ]
    },
    {
      "cell_type": "code",
      "metadata": {
        "id": "uzPPOomxyjhe",
        "colab_type": "code",
        "colab": {}
      },
      "source": [
        "#compile the model\n",
        "#loss function-\n",
        "#optimizer-\n",
        "#metrics- used to monitor "
      ],
      "execution_count": 0,
      "outputs": []
    },
    {
      "cell_type": "code",
      "metadata": {
        "id": "8qgA7DZ900A9",
        "colab_type": "code",
        "colab": {}
      },
      "source": [
        "model.compile(optimizer=\"adam\",loss=\"sparse_categorical_crossentropy\",metrics=[\"accuracy\"])"
      ],
      "execution_count": 0,
      "outputs": []
    },
    {
      "cell_type": "code",
      "metadata": {
        "id": "hKAQDbCb1mNj",
        "colab_type": "code",
        "colab": {}
      },
      "source": [
        "#train the model"
      ],
      "execution_count": 0,
      "outputs": []
    },
    {
      "cell_type": "markdown",
      "metadata": {
        "id": "MPlSVJAC2gY5",
        "colab_type": "text"
      },
      "source": [
        "training the model require following steps:\n"
      ]
    },
    {
      "cell_type": "code",
      "metadata": {
        "id": "d59s2Kf618Ac",
        "colab_type": "code",
        "colab": {
          "base_uri": "https://localhost:8080/",
          "height": 386
        },
        "outputId": "a9901d03-bc5b-4230-bbd7-e75f197776f0"
      },
      "source": [
        "model.fit(train_images,train_labels,epochs=10)"
      ],
      "execution_count": 29,
      "outputs": [
        {
          "output_type": "stream",
          "text": [
            "Train on 60000 samples\n",
            "Epoch 1/10\n",
            "60000/60000 [==============================] - 6s 98us/sample - loss: 0.4966 - accuracy: 0.8244\n",
            "Epoch 2/10\n",
            "60000/60000 [==============================] - 5s 86us/sample - loss: 0.3757 - accuracy: 0.8625\n",
            "Epoch 3/10\n",
            "60000/60000 [==============================] - 5s 87us/sample - loss: 0.3382 - accuracy: 0.8766\n",
            "Epoch 4/10\n",
            "60000/60000 [==============================] - 5s 89us/sample - loss: 0.3130 - accuracy: 0.8845\n",
            "Epoch 5/10\n",
            "60000/60000 [==============================] - 5s 83us/sample - loss: 0.2961 - accuracy: 0.8908\n",
            "Epoch 6/10\n",
            "60000/60000 [==============================] - 5s 80us/sample - loss: 0.2809 - accuracy: 0.8962\n",
            "Epoch 7/10\n",
            "60000/60000 [==============================] - 5s 81us/sample - loss: 0.2682 - accuracy: 0.9003\n",
            "Epoch 8/10\n",
            "60000/60000 [==============================] - 5s 78us/sample - loss: 0.2581 - accuracy: 0.9047\n",
            "Epoch 9/10\n",
            "60000/60000 [==============================] - 4s 72us/sample - loss: 0.2472 - accuracy: 0.9069\n",
            "Epoch 10/10\n",
            "60000/60000 [==============================] - 4s 72us/sample - loss: 0.2391 - accuracy: 0.9101\n"
          ],
          "name": "stdout"
        },
        {
          "output_type": "execute_result",
          "data": {
            "text/plain": [
              "<tensorflow.python.keras.callbacks.History at 0x7f09b361b198>"
            ]
          },
          "metadata": {
            "tags": []
          },
          "execution_count": 29
        }
      ]
    },
    {
      "cell_type": "code",
      "metadata": {
        "id": "PDJFSKQQ2GMt",
        "colab_type": "code",
        "colab": {}
      },
      "source": [
        "# evaluate accuracy"
      ],
      "execution_count": 0,
      "outputs": []
    },
    {
      "cell_type": "code",
      "metadata": {
        "id": "7Qt2BiVM27MC",
        "colab_type": "code",
        "colab": {
          "base_uri": "https://localhost:8080/",
          "height": 84
        },
        "outputId": "1f3f9f75-e466-4649-c12a-b939bdbdc2b9"
      },
      "source": [
        "test_loss,test_acc= model.evaluate(test_images,test_labels)\n",
        "print(\"\\ntest accuracy\",test_acc)\n",
        "print(test_loss)"
      ],
      "execution_count": 72,
      "outputs": [
        {
          "output_type": "stream",
          "text": [
            "10000/10000 [==============================] - 0s 36us/sample - loss: 0.3356 - accuracy: 0.8834\n",
            "\n",
            "test accuracy 0.8834\n",
            "0.3355941911220551\n"
          ],
          "name": "stdout"
        }
      ]
    },
    {
      "cell_type": "code",
      "metadata": {
        "id": "d93GVAGJ3NYO",
        "colab_type": "code",
        "colab": {}
      },
      "source": [
        "predictions= model.predict(test_images)"
      ],
      "execution_count": 0,
      "outputs": []
    },
    {
      "cell_type": "code",
      "metadata": {
        "id": "HZqKe2d43WXZ",
        "colab_type": "code",
        "colab": {
          "base_uri": "https://localhost:8080/",
          "height": 67
        },
        "outputId": "3b2dbdf7-ec5f-4e09-bdb9-4e17bd554706"
      },
      "source": [
        "predictions[0]"
      ],
      "execution_count": 33,
      "outputs": [
        {
          "output_type": "execute_result",
          "data": {
            "text/plain": [
              "array([8.4129670e-06, 7.1580413e-09, 8.3642577e-09, 1.5665143e-11,\n",
              "       6.9194686e-09, 9.6899539e-04, 1.3801750e-06, 1.6418058e-02,\n",
              "       4.9106807e-06, 9.8259819e-01], dtype=float32)"
            ]
          },
          "metadata": {
            "tags": []
          },
          "execution_count": 33
        }
      ]
    },
    {
      "cell_type": "code",
      "metadata": {
        "id": "vSHPHJgC3ZuS",
        "colab_type": "code",
        "colab": {
          "base_uri": "https://localhost:8080/",
          "height": 34
        },
        "outputId": "be6989a7-a979-4af6-8201-a9da55ce0601"
      },
      "source": [
        "np.max(predictions[0])"
      ],
      "execution_count": 34,
      "outputs": [
        {
          "output_type": "execute_result",
          "data": {
            "text/plain": [
              "0.9825982"
            ]
          },
          "metadata": {
            "tags": []
          },
          "execution_count": 34
        }
      ]
    },
    {
      "cell_type": "code",
      "metadata": {
        "id": "CqhiVoKr3hWq",
        "colab_type": "code",
        "colab": {
          "base_uri": "https://localhost:8080/",
          "height": 34
        },
        "outputId": "666d64b1-8531-4380-92c5-f8eaec2d1304"
      },
      "source": [
        "np.argmax(predictions[0])"
      ],
      "execution_count": 36,
      "outputs": [
        {
          "output_type": "execute_result",
          "data": {
            "text/plain": [
              "9"
            ]
          },
          "metadata": {
            "tags": []
          },
          "execution_count": 36
        }
      ]
    },
    {
      "cell_type": "code",
      "metadata": {
        "id": "TlPUPxlK3nwI",
        "colab_type": "code",
        "colab": {
          "base_uri": "https://localhost:8080/",
          "height": 34
        },
        "outputId": "2013c160-45bd-4f88-acdf-5e1453a9ec2a"
      },
      "source": [
        "test_labels[0]"
      ],
      "execution_count": 37,
      "outputs": [
        {
          "output_type": "execute_result",
          "data": {
            "text/plain": [
              "9"
            ]
          },
          "metadata": {
            "tags": []
          },
          "execution_count": 37
        }
      ]
    },
    {
      "cell_type": "code",
      "metadata": {
        "id": "0894-X1f4iTt",
        "colab_type": "code",
        "colab": {}
      },
      "source": [
        "def plot_image(i,predictions_array,true_label,img):\n",
        "  predictions_array,true_label,img=predictions_array[i],true_label[i],img[i]\n",
        "  plt.grid(False)\n",
        "  plt.xticks([])\n",
        "  plt.yticks([])\n",
        "\n",
        "  plt.imshow(img,cmap=plt.cm.binary)\n",
        "\n",
        "  predicted_label=np.argmax(predictions_array)\n",
        "  if predicted_label==true_label:\n",
        "    color=\"blue\"\n",
        "  else:\n",
        "    color=\"red\"  \n",
        "\n",
        "  plt.xlabel(\"{} {:2.0f}% ({})\".format(class_names[predicted_label],\n",
        "                                       100*np.max(predictions_array),\n",
        "                                       class_names[true_label]),\n",
        "             color=color)  "
      ],
      "execution_count": 0,
      "outputs": []
    },
    {
      "cell_type": "code",
      "metadata": {
        "id": "q4Bik25W7MhL",
        "colab_type": "code",
        "colab": {}
      },
      "source": [
        "def plot_value_array(i,predictions_array,true_label):\n",
        "   predictions_array,true_label=predictions_array[i],true_label[i]\n",
        "   plt.grid(False)\n",
        "   plt.xticks([])\n",
        "   plt.yticks([])\n",
        "   thisplot=plt.bar(range(10),predictions_array,color=\"#777777\")\n",
        "   plt.ylim([0,1])\n",
        "   predicted_label= np.argmax(predictions_array)\n",
        "\n",
        "   thisplot[predicted_label].set_color(\"red\")\n",
        "   thisplot[true_label].set_color(\"blue\")\n",
        "\n"
      ],
      "execution_count": 0,
      "outputs": []
    },
    {
      "cell_type": "code",
      "metadata": {
        "id": "Maz5QAA88yFJ",
        "colab_type": "code",
        "colab": {
          "base_uri": "https://localhost:8080/",
          "height": 203
        },
        "outputId": "79fd9cc1-6576-400d-8f5a-060cdbfbd3fa"
      },
      "source": [
        "i=0\n",
        "plt.figure(figsize=(6,3))\n",
        "plt.subplot(1,2,1)\n",
        "plot_image(i,predictions,test_labels,test_images)\n",
        "plt.subplot(1,2,2)\n",
        "plot_value_array(i,predictions,test_labels)\n",
        "plt.show()"
      ],
      "execution_count": 52,
      "outputs": [
        {
          "output_type": "display_data",
          "data": {
            "image/png": "[encoded data removed]",
            "text/plain": [
              "<Figure size 432x216 with 2 Axes>"
            ]
          },
          "metadata": {
            "tags": []
          }
        }
      ]
    },
    {
      "cell_type": "code",
      "metadata": {
        "id": "gHCWlUiE9PDO",
        "colab_type": "code",
        "colab": {
          "base_uri": "https://localhost:8080/",
          "height": 203
        },
        "outputId": "d1c2e834-e1df-4b08-9797-ba2af9a18d4d"
      },
      "source": [
        "i=16\n",
        "plt.figure(figsize=(6,3))\n",
        "plt.subplot(1,2,1)\n",
        "plot_image(i,predictions,test_labels,test_images)\n",
        "plt.subplot(1,2,2)\n",
        "plot_value_array(i,predictions,test_labels)\n",
        "plt.show()"
      ],
      "execution_count": 53,
      "outputs": [
        {
          "output_type": "display_data",
          "data": {
            "image/png": "[encoded data removed]",
            "text/plain": [
              "<Figure size 432x216 with 2 Axes>"
            ]
          },
          "metadata": {
            "tags": []
          }
        }
      ]
    },
    {
      "cell_type": "code",
      "metadata": {
        "id": "SzmYbVg9-p4F",
        "colab_type": "code",
        "colab": {
          "base_uri": "https://localhost:8080/",
          "height": 589
        },
        "outputId": "9f1a5a25-b4b8-4091-f746-168ce0c9b5db"
      },
      "source": [
        "num_rows=5\n",
        "num_cols=3\n",
        "num_images=num_rows*num_cols\n",
        "plt.figure(figsize=(2*2*num_cols,2*num_rows))\n",
        "for i in range(num_images):\n",
        "  plt.subplot(num_rows,2*num_cols,2*i+1)\n",
        "  plot_image(i,predictions,test_labels,test_images)\n",
        "  plt.subplot(num_rows,2*num_cols,2*i+2)  \n",
        "  plot_value_array(i,predictions,test_labels)\n",
        "plt.show () "
      ],
      "execution_count": 54,
      "outputs": [
        {
          "output_type": "display_data",
          "data": {
            "image/png": "[encoded data removed]",
            "text/plain": [
              "<Figure size 864x720 with 30 Axes>"
            ]
          },
          "metadata": {
            "tags": []
          }
        }
      ]
    },
    {
      "cell_type": "code",
      "metadata": {
        "id": "tKmXUEA4_7OQ",
        "colab_type": "code",
        "colab": {
          "base_uri": "https://localhost:8080/",
          "height": 34
        },
        "outputId": "a8f395c6-12da-4555-e339-b77b7a7811e6"
      },
      "source": [
        "img=test_images[0]\n",
        "print(img.shape)"
      ],
      "execution_count": 59,
      "outputs": [
        {
          "output_type": "stream",
          "text": [
            "(28, 28)\n"
          ],
          "name": "stdout"
        }
      ]
    },
    {
      "cell_type": "code",
      "metadata": {
        "id": "n-DFGsMJAUkW",
        "colab_type": "code",
        "colab": {
          "base_uri": "https://localhost:8080/",
          "height": 34
        },
        "outputId": "ee688a68-6a71-434d-d782-a08b37fa19d7"
      },
      "source": [
        "img=(np.expand_dims(img,0))\n",
        "img.shape"
      ],
      "execution_count": 60,
      "outputs": [
        {
          "output_type": "execute_result",
          "data": {
            "text/plain": [
              "(1, 28, 28)"
            ]
          },
          "metadata": {
            "tags": []
          },
          "execution_count": 60
        }
      ]
    },
    {
      "cell_type": "code",
      "metadata": {
        "id": "j3Asf8NyAbSN",
        "colab_type": "code",
        "colab": {
          "base_uri": "https://localhost:8080/",
          "height": 50
        },
        "outputId": "61dd7fc6-af1c-4554-db69-e01af03ca13d"
      },
      "source": [
        "predictions_single=model.predict(img)\n",
        "print(predictions_single)"
      ],
      "execution_count": 61,
      "outputs": [
        {
          "output_type": "stream",
          "text": [
            "[[8.4129424e-06 7.1580004e-09 8.3642417e-09 1.5665053e-11 6.9194290e-09\n",
            "  9.6899353e-04 1.3801737e-06 1.6418051e-02 4.9106620e-06 9.8259819e-01]]\n"
          ],
          "name": "stdout"
        }
      ]
    },
    {
      "cell_type": "code",
      "metadata": {
        "id": "drXqgcrBAzyg",
        "colab_type": "code",
        "colab": {
          "base_uri": "https://localhost:8080/",
          "height": 300
        },
        "outputId": "e8afc733-2620-4d14-eff4-b5d8d6f1c6ee"
      },
      "source": [
        "plot_value_array(0,predictions_single,test_labels)\n",
        "_ =plt.xticks(range(10),class_names,rotation=45)"
      ],
      "execution_count": 62,
      "outputs": [
        {
          "output_type": "display_data",
          "data": {
            "image/png": "[encoded data removed]",
            "text/plain": [
              "<Figure size 432x288 with 1 Axes>"
            ]
          },
          "metadata": {
            "tags": []
          }
        }
      ]
    },
    {
      "cell_type": "code",
      "metadata": {
        "id": "MHuoT-kXBSDh",
        "colab_type": "code",
        "colab": {
          "base_uri": "https://localhost:8080/",
          "height": 34
        },
        "outputId": "b1ac9307-4972-4aac-f3fc-b2a4c233a055"
      },
      "source": [
        "np.argmax(predictions_single[0])"
      ],
      "execution_count": 64,
      "outputs": [
        {
          "output_type": "execute_result",
          "data": {
            "text/plain": [
              "9"
            ]
          },
          "metadata": {
            "tags": []
          },
          "execution_count": 64
        }
      ]
    },
    {
      "cell_type": "code",
      "metadata": {
        "id": "pTNEiEcDBXxH",
        "colab_type": "code",
        "colab": {}
      },
      "source": [
        ""
      ],
      "execution_count": 0,
      "outputs": []
    }
  ]
}